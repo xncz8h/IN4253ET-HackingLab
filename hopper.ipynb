{
 "cells": [
  {
   "cell_type": "code",
   "execution_count": 57,
   "metadata": {
    "collapsed": true
   },
   "outputs": [],
   "source": [
    "import numpy as np\n",
    "import json\n",
    "import sys\n",
    "import requests\n",
    "import random\n",
    "from bs4 import BeautifulSoup\n",
    "from urllib.parse import urljoin\n",
    "from selenium import webdriver\n",
    "from selenium.webdriver.chrome.options import Options\n",
    "from selenium.common.exceptions import WebDriverException\n",
    "from typing import List, Dict\n",
    "\n",
    "from CrawlerManager import CrawlerManager\n",
    "from post_processing import main_process\n",
    "\n",
    "chrome_options = Options()\n",
    "chrome_options.add_argument(\"--headless\")\n",
    "gl_SPOOFED_USER_AGENT = (\"Mozilla/5.0 (X11; Linux x86_64) \"\n",
    "                         \"AppleWebKit/537.36 \"\n",
    "                         \"(KHTML, like Gecko) Chrome/70.0.3538.77 \"\n",
    "                         \"Safari/537.36\")\n",
    "chrome_options.add_argument(\"--user-agent=%s\" %\n",
    "                            gl_SPOOFED_USER_AGENT)\n",
    "chrome_options.add_argument(\"--disable-extensions\")\n",
    "chrome_options.add_argument(\"ignore-certificate-errors\")\n",
    "chrome_options.add_argument(\"incognito\")\n",
    "chrome_options.add_argument(\"disable-gpu\")\n",
    "chrome_options.add_argument(\"disable-xss-auditor\")\n",
    "# chrome_options.add_argument(\"disable-background-networking\")\n",
    "chrome_options.add_argument(\"mute-audio\")\n",
    "chrome_options.add_argument(\"disable-notifications\")\n",
    "chrome_options.add_argument(\"allow-running-insecure-content\")"
   ]
  },
  {
   "cell_type": "code",
   "execution_count": 2,
   "outputs": [],
   "source": [
    "from collect_cookies import *"
   ],
   "metadata": {
    "collapsed": false,
    "pycharm": {
     "name": "#%%\n"
    }
   }
  },
  {
   "cell_type": "code",
   "execution_count": 2,
   "outputs": [],
   "source": [],
   "metadata": {
    "collapsed": false,
    "pycharm": {
     "name": "#%%\n"
    }
   }
  },
  {
   "cell_type": "code",
   "execution_count": 65,
   "outputs": [
    {
     "data": {
      "text/plain": "(6,\n [{'domain': 'duo.nl',\n   'expires': -1,\n   'httpOnly': True,\n   'name': 'JSESSIONID',\n   'path': '/',\n   'priority': 'Medium',\n   'sameParty': False,\n   'secure': True,\n   'session': True,\n   'size': 42,\n   'sourcePort': 443,\n   'sourceScheme': 'Secure',\n   'value': '63E11D66EB78DAF16C462DBEA224233E'},\n  {'domain': '.duo.nl',\n   'expires': 1647993819,\n   'httpOnly': False,\n   'name': '_pk_ses.1.0569',\n   'path': '/',\n   'priority': 'Medium',\n   'sameParty': False,\n   'secure': False,\n   'session': False,\n   'size': 15,\n   'sourcePort': 443,\n   'sourceScheme': 'Secure',\n   'value': '*'},\n  {'domain': '.duo.nl',\n   'expires': 1681947219,\n   'httpOnly': False,\n   'name': '_pk_id.1.0569',\n   'path': '/',\n   'priority': 'Medium',\n   'sameParty': False,\n   'secure': False,\n   'session': False,\n   'size': 65,\n   'sourcePort': 443,\n   'sourceScheme': 'Secure',\n   'value': '8ef26ecd05881b3d.1647992019.1.1647992020.1647992019.'},\n  {'domain': '.nwo.nl',\n   'expires': 1711064021,\n   'httpOnly': False,\n   'name': '_ga',\n   'path': '/',\n   'priority': 'Medium',\n   'sameParty': False,\n   'secure': False,\n   'session': False,\n   'size': 29,\n   'sourcePort': 443,\n   'sourceScheme': 'Secure',\n   'value': 'GA1.2.241791821.1647992021'},\n  {'domain': '.nwo.nl',\n   'expires': 1648078421,\n   'httpOnly': False,\n   'name': '_gid',\n   'path': '/',\n   'priority': 'Medium',\n   'sameParty': False,\n   'secure': False,\n   'session': False,\n   'size': 30,\n   'sourcePort': 443,\n   'sourceScheme': 'Secure',\n   'value': 'GA1.2.689690380.1647992021'},\n  {'domain': '.nwo.nl',\n   'expires': 1647992081,\n   'httpOnly': False,\n   'name': '_dc_gtm_UA-30950465-1',\n   'path': '/',\n   'priority': 'Medium',\n   'sameParty': False,\n   'secure': False,\n   'session': False,\n   'size': 22,\n   'sourcePort': 443,\n   'sourceScheme': 'Secure',\n   'value': '1'}])"
     },
     "execution_count": 65,
     "metadata": {},
     "output_type": "execute_result"
    }
   ],
   "source": [
    "driver = webdriver.Chrome(options=chrome_options)\n",
    "driver.get('https://duo.nl')\n",
    "driver.get('https://nwo.nl')\n",
    "cookies = driver.execute_cdp_cmd('Network.getAllCookies', dict())['cookies']\n",
    "\n",
    "len(cookies), cookies"
   ],
   "metadata": {
    "collapsed": false,
    "pycharm": {
     "name": "#%%\n"
    }
   }
  },
  {
   "cell_type": "code",
   "execution_count": null,
   "outputs": [],
   "source": [],
   "metadata": {
    "collapsed": false,
    "pycharm": {
     "name": "#%%\n"
    }
   }
  },
  {
   "cell_type": "code",
   "execution_count": 68,
   "outputs": [],
   "source": [
    "def get_parse_cookies(urls: List[str], website_name: str, fields: List[str]) -> List[Dict]:\n",
    "    # Create new driver because it will otherwise return all the cookies.\n",
    "    driver = webdriver.Chrome(options=chrome_options)\n",
    "    # Create new driver because it will otherwise return all the cookies.\n",
    "    for url in urls:\n",
    "        print(url)\n",
    "        driver.get(url)\n",
    "    # Empty dict for the input arguments.\n",
    "    cookies = driver.execute_cdp_cmd('Network.getAllCookies', dict())['cookies']\n",
    "    wanted_data = []\n",
    "    for c in cookies:\n",
    "        cookie_dict = {k: c[k] for k in fields}\n",
    "        cookie_dict['third_party'] = website_name not in cookie_dict['domain']\n",
    "        cookie_dict['trackers_list'] = check_trackers(cookie_dict['domain'])\n",
    "        wanted_data.append(cookie_dict)\n",
    "\n",
    "    # print(url)\n",
    "    return wanted_data"
   ],
   "metadata": {
    "collapsed": false,
    "pycharm": {
     "name": "#%%\n"
    }
   }
  },
  {
   "cell_type": "code",
   "execution_count": 5,
   "outputs": [],
   "source": [
    "url = 'https://business.gov.nl/'"
   ],
   "metadata": {
    "collapsed": false,
    "pycharm": {
     "name": "#%%\n"
    }
   }
  },
  {
   "cell_type": "code",
   "execution_count": 66,
   "outputs": [],
   "source": [
    "def hop(base_url: str) -> List[str]:\n",
    "    r = requests.get(base_url)\n",
    "    soup = BeautifulSoup(r.content, 'html.parser')\n",
    "    a_tags = soup.find_all('a', href=True)\n",
    "    # Create absolute URLs and remove the ones which are refs on the same page.\n",
    "    w_name = get_website_name(base_url)\n",
    "    refs = {full_url for x in a_tags if w_name == get_website_name(full_url := urljoin(base_url, x['href'])) and not x['href'].startswith('#')}\n",
    "    return random.sample([*refs], min(len(refs), 20))\n",
    "\n",
    "drollies = hop(url)"
   ],
   "metadata": {
    "collapsed": false,
    "pycharm": {
     "name": "#%%\n"
    }
   }
  },
  {
   "cell_type": "code",
   "execution_count": 69,
   "outputs": [
    {
     "name": "stdout",
     "output_type": "stream",
     "text": [
      "https://business.gov.nl/running-your-business/business-location/\n",
      "https://business.gov.nl/webinars-and-videos/how-to-start-an-online-shop-in-the-netherlands/webinar-on-demand/\n",
      "https://business.gov.nl/starting-your-business/choosing-a-business-structure/\n",
      "https://business.gov.nl/partners/netherlands-chamber-of-commerce/\n",
      "https://business.gov.nl/running-your-business/business-management/insurance/\n",
      "https://business.gov.nl/privacy-cookies/\n",
      "https://business.gov.nl/regulation/leave-schemes/\n",
      "https://business.gov.nl/coming-to-the-netherlands/information-for-employers/\n",
      "https://business.gov.nl/\n",
      "https://business.gov.nl/disclaimer/\n",
      "https://business.gov.nl/running-your-business/international-business/\n",
      "https://business.gov.nl/overview/\n",
      "https://business.gov.nl/search\n",
      "https://business.gov.nl/financing-your-business/subsidies/\n",
      "https://business.gov.nl/financing-your-business/funding-and-loans/\n",
      "https://business.gov.nl/running-your-business/business-taxes/\n",
      "https://business.gov.nl/webinars-and-videos/financing-your-business-in-the-netherlands/\n",
      "https://business.gov.nl/financing-your-business/tax-schemes-and-benefits/\n",
      "https://business.gov.nl/ending-your-business/\n",
      "https://business.gov.nl/coming-to-the-netherlands/identity-documents-and-qualifications/\n",
      "https://business.gov.nl/sector-specific/retail-and-wholesale/\n",
      "https://business.gov.nl/sector-specific/hospitality/\n",
      "https://business.gov.nl/starting-your-business/checklists-for-starting-a-business/\n",
      "https://business.gov.nl/webinars-and-videos/\n",
      "https://business.gov.nl/coming-to-the-netherlands/permits-and-visa/startup-visa/\n",
      "https://business.gov.nl/about-us/\n",
      "https://business.gov.nl/running-your-business/\n",
      "https://business.gov.nl/accessibility/\n",
      "https://business.gov.nl/regulation/using-checking-vat-numbers/\n",
      "https://business.gov.nl/coming-to-the-netherlands/permits-and-visa/\n",
      "https://business.gov.nl/sector-specific/professional-services/financial-services/\n",
      "https://business.gov.nl/coming-to-the-netherlands/living-in-the-netherlands/\n",
      "https://business.gov.nl/running-your-business/business-management/legal-matters/\n",
      "https://business.gov.nl/partners/\n",
      "https://business.gov.nl/coming-to-the-netherlands/permits-and-visa/orientation-visa-for-highly-educated-persons/\n",
      "https://business.gov.nl/ending-your-business/selling-or-transferring-your-business/\n",
      "https://business.gov.nl/webinars-and-videos/starting-a-business-in-the-netherlands/\n",
      "https://business.gov.nl/sector-specific/\n",
      "https://business.gov.nl/starting-your-business/registering-your-business/\n",
      "https://business.gov.nl/subsidy/stap-budget-training-development/\n",
      "https://business.gov.nl/running-your-business/business-taxes/vat/\n",
      "https://business.gov.nl/coming-to-the-netherlands/\n",
      "https://business.gov.nl/sector-specific/transport/\n",
      "https://business.gov.nl/running-your-business/staff/\n",
      "https://business.gov.nl/running-your-business/business-taxes/filing-your-tax-returns/filing-your-income-tax-return/\n",
      "https://business.gov.nl/contact/\n",
      "https://business.gov.nl/changes-law-and-regulations-2nd-quarter-2022/\n",
      "https://business.gov.nl/coming-to-the-netherlands/living-in-the-netherlands/paying-taxes-in-the-netherlands/\n",
      "https://business.gov.nl/sector-specific/construction/\n",
      "https://business.gov.nl/ending-your-business/closing-down-your-business/\n",
      "https://business.gov.nl/faq/\n",
      "https://business.gov.nl/financing-your-business/\n",
      "https://business.gov.nl/starting-your-business/\n"
     ]
    },
    {
     "data": {
      "text/plain": "[{'name': '_gid',\n  'domain': '.gov.nl',\n  'expires': 1648079275,\n  'third_party': False,\n  'trackers_list': []},\n {'name': '_gat_UA-3742073-10',\n  'domain': '.gov.nl',\n  'expires': 1647992888,\n  'third_party': False,\n  'trackers_list': []},\n {'name': '_hjFirstSeen',\n  'domain': '.gov.nl',\n  'expires': 1647994629,\n  'third_party': False,\n  'trackers_list': []},\n {'name': '_hjIncludedInSessionSample',\n  'domain': 'business.gov.nl',\n  'expires': 1647992995,\n  'third_party': False,\n  'trackers_list': []},\n {'name': '_hjSession_630207',\n  'domain': '.gov.nl',\n  'expires': 1647994675,\n  'third_party': False,\n  'trackers_list': []},\n {'name': '_hjAbsoluteSessionInProgress',\n  'domain': '.gov.nl',\n  'expires': 1647994675,\n  'third_party': False,\n  'trackers_list': []},\n {'name': '_hjSessionUser_630207',\n  'domain': '.gov.nl',\n  'expires': 1679528875,\n  'third_party': False,\n  'trackers_list': []},\n {'name': '_gat_UA-3742073-13',\n  'domain': '.gov.nl',\n  'expires': 1647992894,\n  'third_party': False,\n  'trackers_list': []},\n {'name': '_ga_845PX04177',\n  'domain': '.gov.nl',\n  'expires': 1711064875,\n  'third_party': False,\n  'trackers_list': []},\n {'name': '_ga',\n  'domain': '.gov.nl',\n  'expires': 1711064875,\n  'third_party': False,\n  'trackers_list': []}]"
     },
     "execution_count": 69,
     "metadata": {},
     "output_type": "execute_result"
    }
   ],
   "source": [
    "fields = ['name', 'domain', 'expires']\n",
    "get_parse_cookies(drollies, get_website_name(url), fields)"
   ],
   "metadata": {
    "collapsed": false,
    "pycharm": {
     "name": "#%%\n"
    }
   }
  },
  {
   "cell_type": "code",
   "execution_count": 70,
   "outputs": [
    {
     "name": "stdout",
     "output_type": "stream",
     "text": [
      "https://business.gov.nl\n"
     ]
    },
    {
     "data": {
      "text/plain": "[{'name': '_ga_845PX04177',\n  'domain': '.gov.nl',\n  'expires': 1711064999,\n  'third_party': False,\n  'trackers_list': []},\n {'name': '_ga',\n  'domain': '.gov.nl',\n  'expires': 1711064999,\n  'third_party': False,\n  'trackers_list': []},\n {'name': '_gid',\n  'domain': '.gov.nl',\n  'expires': 1648079399,\n  'third_party': False,\n  'trackers_list': []},\n {'name': '_gat_UA-3742073-10',\n  'domain': '.gov.nl',\n  'expires': 1647993059,\n  'third_party': False,\n  'trackers_list': []},\n {'name': '_hjSessionUser_630207',\n  'domain': '.gov.nl',\n  'expires': 1679528999,\n  'third_party': False,\n  'trackers_list': []},\n {'name': '_hjFirstSeen',\n  'domain': '.gov.nl',\n  'expires': 1647994799,\n  'third_party': False,\n  'trackers_list': []},\n {'name': '_hjIncludedInSessionSample',\n  'domain': 'business.gov.nl',\n  'expires': 1647993119,\n  'third_party': False,\n  'trackers_list': []},\n {'name': '_hjSession_630207',\n  'domain': '.gov.nl',\n  'expires': 1647994799,\n  'third_party': False,\n  'trackers_list': []},\n {'name': '_hjIncludedInPageviewSample',\n  'domain': 'business.gov.nl',\n  'expires': 1647993119,\n  'third_party': False,\n  'trackers_list': []},\n {'name': '_hjAbsoluteSessionInProgress',\n  'domain': '.gov.nl',\n  'expires': 1647994799,\n  'third_party': False,\n  'trackers_list': []}]"
     },
     "execution_count": 70,
     "metadata": {},
     "output_type": "execute_result"
    }
   ],
   "source": [
    "get_parse_cookies(['https://business.gov.nl'], 'gov', fields)"
   ],
   "metadata": {
    "collapsed": false,
    "pycharm": {
     "name": "#%%\n"
    }
   }
  },
  {
   "cell_type": "code",
   "execution_count": 8,
   "outputs": [],
   "source": [
    "d = {'abc.com': {'frontpage': 'cookie1', 'hopped': ['cookie2', 'cookie3']}}\n",
    "\n",
    "with open('drol.json', 'w') as f:\n",
    "    json.dump(d, f, indent=2)"
   ],
   "metadata": {
    "collapsed": false,
    "pycharm": {
     "name": "#%%\n"
    }
   }
  }
 ],
 "metadata": {
  "kernelspec": {
   "display_name": "Python 3",
   "language": "python",
   "name": "python3"
  },
  "language_info": {
   "codemirror_mode": {
    "name": "ipython",
    "version": 2
   },
   "file_extension": ".py",
   "mimetype": "text/x-python",
   "name": "python",
   "nbconvert_exporter": "python",
   "pygments_lexer": "ipython2",
   "version": "2.7.6"
  }
 },
 "nbformat": 4,
 "nbformat_minor": 0
}