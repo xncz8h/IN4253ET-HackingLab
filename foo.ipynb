{
 "cells": [
  {
   "cell_type": "code",
   "execution_count": 42,
   "metadata": {
    "collapsed": true
   },
   "outputs": [],
   "source": [
    "from selenium import webdriver\n",
    "from selenium.webdriver.chrome.options import Options"
   ]
  },
  {
   "cell_type": "code",
   "execution_count": 58,
   "outputs": [],
   "source": [
    "chrome_options = Options()\n",
    "# The Google cookie seems to disappear when running headless.\n",
    "# chrome_options.add_argument(\"--headless\")\n",
    "# chrome_options.add_argument(\"--disable-extensions\")\n",
    "\n",
    "driver = webdriver.Chrome(options = chrome_options)\n",
    "driver.get('https://nytimes.com')\n",
    "cookies = driver.execute_cdp_cmd('Network.getAllCookies', dict())\n"
   ],
   "metadata": {
    "collapsed": false,
    "pycharm": {
     "name": "#%%\n"
    }
   }
  },
  {
   "cell_type": "code",
   "execution_count": 62,
   "outputs": [
    {
     "name": "stdout",
     "output_type": "stream",
     "text": [
      "{'domain': '.nytimes.com', 'expires': 1646250786.202544, 'httpOnly': False, 'name': 'nyt-gdpr', 'path': '/', 'priority': 'Medium', 'sameParty': False, 'secure': False, 'session': False, 'size': 9, 'sourcePort': 443, 'sourceScheme': 'Secure', 'value': '1'}\n",
      "{'domain': '.nytimes.com', 'expires': 1677765188.105338, 'httpOnly': False, 'name': 'nyt-a', 'path': '/', 'priority': 'Medium', 'sameParty': False, 'sameSite': 'None', 'secure': True, 'session': False, 'size': 27, 'sourcePort': 443, 'sourceScheme': 'Secure', 'value': 'n6dyjjdck0faaCyryqubaS'}\n",
      "{'domain': '.nytimes.com', 'expires': 1677765182.872605, 'httpOnly': False, 'name': 'nyt-purr', 'path': '/', 'priority': 'Medium', 'sameParty': False, 'sameSite': 'Lax', 'secure': True, 'session': False, 'size': 20, 'sourcePort': 443, 'sourceScheme': 'Secure', 'value': 'cfhspnahhudn'}\n",
      "{'domain': '.nytimes.com', 'expires': 1646250782.872625, 'httpOnly': False, 'name': 'nyt-geo', 'path': '/', 'priority': 'Medium', 'sameParty': False, 'secure': False, 'session': False, 'size': 9, 'sourcePort': 443, 'sourceScheme': 'Secure', 'value': 'NL'}\n",
      "{'domain': '.nytimes.com', 'expires': -1, 'httpOnly': False, 'name': 'nyt-b3-traceid', 'path': '/', 'priority': 'Medium', 'sameParty': False, 'sameSite': 'None', 'secure': True, 'session': True, 'size': 46, 'sourcePort': 443, 'sourceScheme': 'Secure', 'value': 'b7b5fef3cd864924a4a3ed0b7b2931f3'}\n",
      "{'domain': '.et.nytimes.com', 'expires': 1646230988.105411, 'httpOnly': False, 'name': 'sessionActive', 'path': '/', 'priority': 'Medium', 'sameParty': False, 'sameSite': 'None', 'secure': True, 'session': False, 'size': 17, 'sourcePort': 443, 'sourceScheme': 'Secure', 'value': 'true'}\n",
      "{'domain': '.et.nytimes.com', 'expires': 1677765183.28418, 'httpOnly': False, 'name': 'sessionIndex', 'path': '/', 'priority': 'Medium', 'sameParty': False, 'sameSite': 'None', 'secure': True, 'session': False, 'size': 64, 'sourcePort': 443, 'sourceScheme': 'Secure', 'value': '1|1646229183228|n6dyjjdck0faaCyryqubaS|1646229183228'}\n",
      "{'domain': '.et.nytimes.com', 'expires': 1646315588.050758, 'httpOnly': False, 'name': 'et-ppvid', 'path': '/', 'priority': 'Medium', 'sameParty': False, 'sameSite': 'None', 'secure': True, 'session': False, 'size': 57, 'sourcePort': 443, 'sourceScheme': 'Secure', 'value': 'https://www.nytimes.com/=FOczTdsWdrrOjtCNnNAK7H8g'}\n",
      "{'domain': '.google.com', 'expires': 1662040384.476065, 'httpOnly': True, 'name': 'NID', 'path': '/', 'priority': 'Medium', 'sameParty': False, 'sameSite': 'None', 'secure': True, 'session': False, 'size': 178, 'sourcePort': 443, 'sourceScheme': 'Secure', 'value': '511=NWEX2ZSo7OM9yvFLZOI-R-WkrJQJwz0jHRXoV0cZD5k-CPog1Q7FHrt7OKa-1eB_ZnUV-lZmmKyujzZ_Ftx0t82PIkrucvmP-SHrxpRL56TFK8YX0KTONirimU1uyG9dTR0qdpr-zd43JqA8EP7gb1Ym5F7p2ESLVCV0OUi8SgA'}\n",
      "{'domain': '.nytimes.com', 'expires': 1679925184, 'httpOnly': False, 'name': '__gads', 'path': '/', 'priority': 'Medium', 'sameParty': False, 'secure': False, 'session': False, 'size': 92, 'sourcePort': 443, 'sourceScheme': 'Secure', 'value': 'ID=78a77b96267a9ce6-22e9f0fe51cd003b:T=1646229184:S=ALNI_MYuW_jiRpPH2a_ywCvDiA5AyLzPxQ'}\n",
      "{'domain': '.doubleclick.net', 'expires': 1679925184.88907, 'httpOnly': True, 'name': 'IDE', 'path': '/', 'priority': 'Medium', 'sameParty': False, 'sameSite': 'None', 'secure': True, 'session': False, 'size': 70, 'sourcePort': 443, 'sourceScheme': 'Secure', 'value': 'AHWqTUkEsZiT50CouFoBwIToBR_7GKcp31O5dR_Z6bK28BScl8LVaia2VV8jyfwGTQ4'}\n",
      "{'domain': '.nytimes.com', 'expires': 1677765185.038297, 'httpOnly': False, 'name': 'datadome', 'path': '/', 'priority': 'Medium', 'sameParty': False, 'sameSite': 'Lax', 'secure': True, 'session': False, 'size': 135, 'sourcePort': 443, 'sourceScheme': 'Secure', 'value': '1-nk-amV14OfvUoHujjVpLb7_L5T00J4Lv-fovBj06CAP_r5UeXL_t~37jziKgQje1bm21DE8JOfbh~FShXS9ZaoKId0J5t8WCC~6~1rsF1JJq0URoHXx3w_OjD1kCk'}\n",
      "{'domain': '.nytimes.com', 'expires': 1803995586.401599, 'httpOnly': False, 'name': 'nyt-m', 'path': '/', 'priority': 'Medium', 'sameParty': False, 'secure': False, 'session': False, 'size': 339, 'sourcePort': 443, 'sourceScheme': 'Secure', 'value': 'CC697663F5EA7F042ADC0C91B103FFD0&er=i.1646229186&fv=i.0&imu=i.1&pr=l.4.0.0.0.0&prt=i.0&igd=i.0&imv=i.0&uuid=s.5bb3146a-33e3-4221-8ba9-3af36883f1d3&t=i.1&rc=i.0&ft=i.0&cav=i.0&igu=i.1&ica=i.0&ird=i.0&ier=i.0&iub=i.0&ifv=i.0&v=i.0&iga=i.0&iru=i.1&vr=l.4.0.0.0.0&ira=i.0&iir=i.0&s=s.core&n=i.2&vp=i.0&iue=i.0&e=i.1648800000&g=i.0&igf=i.0'}\n",
      "{'domain': '.nytimes.com', 'expires': 1680399186.629783, 'httpOnly': False, 'name': 'purr-cache', 'path': '/', 'priority': 'Medium', 'sameParty': False, 'sameSite': 'Lax', 'secure': True, 'session': False, 'size': 24, 'sourcePort': 443, 'sourceScheme': 'Secure', 'value': '<K0<r<C_<G_<S0'}\n",
      "{'domain': '.a.nytimes.com', 'expires': 1677765186.649819, 'httpOnly': True, 'name': 'jkidd-p', 'path': '/', 'priority': 'Medium', 'sameParty': False, 'secure': False, 'session': False, 'size': 26, 'sourcePort': 443, 'sourceScheme': 'Secure', 'value': 'prevPage=&currPage='}\n",
      "{'domain': '.nytimes.com', 'expires': 1646265599.649879, 'httpOnly': False, 'name': 'b2b_cig_opt', 'path': '/', 'priority': 'Medium', 'sameParty': False, 'secure': False, 'session': False, 'size': 41, 'sourcePort': 443, 'sourceScheme': 'Secure', 'value': '%7B%22isCorpUser%22%3Afalse%7D'}\n",
      "{'domain': '.nytimes.com', 'expires': 1646265599.649907, 'httpOnly': False, 'name': 'edu_cig_opt', 'path': '/', 'priority': 'Medium', 'sameParty': False, 'secure': False, 'session': False, 'size': 40, 'sourcePort': 443, 'sourceScheme': 'Secure', 'value': '%7B%22isEduUser%22%3Afalse%7D'}\n",
      "{'domain': '.nytimes.com', 'expires': 1677765186.649936, 'httpOnly': False, 'name': 'nyt-jkidd', 'path': '/', 'priority': 'Medium', 'sameParty': False, 'secure': False, 'session': False, 'size': 223, 'sourcePort': 443, 'sourceScheme': 'Secure', 'value': 'uid=0&lastRequest=1646229186593&activeDays=%5B0%2C0%2C0%2C0%2C0%2C0%2C0%2C0%2C0%2C0%2C0%2C0%2C0%2C0%2C0%2C0%2C0%2C0%2C0%2C0%2C0%2C0%2C0%2C0%2C0%2C0%2C0%2C0%2C0%2C1%5D&adv=1&a7dv=1&a14dv=1&a21dv=1&lastKnownType=anon'}\n",
      "{'domain': '.a.nytimes.com', 'expires': -1, 'httpOnly': True, 'name': 'jkidd-s', 'path': '/', 'priority': 'Medium', 'sameParty': False, 'secure': False, 'session': True, 'size': 65, 'sourcePort': 443, 'sourceScheme': 'Secure', 'value': 'referrer=&landing=&start=1646229186593&isNew=1&pageIndex=1'}\n",
      "{'domain': '.nytimes.com', 'expires': 1654005187, 'httpOnly': False, 'name': '_gcl_au', 'path': '/', 'priority': 'Medium', 'sameParty': False, 'secure': False, 'session': False, 'size': 31, 'sourcePort': 443, 'sourceScheme': 'Secure', 'value': '1.1.580853556.1646229188'}\n",
      "{'domain': '.nytimes.com', 'expires': 1709301187, 'httpOnly': False, 'name': 'walley', 'path': '/', 'priority': 'Medium', 'sameParty': False, 'secure': False, 'session': False, 'size': 32, 'sourcePort': 443, 'sourceScheme': 'Secure', 'value': 'GA1.2.673291404.1646229184'}\n",
      "{'domain': '.nytimes.com', 'expires': 1646315587, 'httpOnly': False, 'name': 'walley_gid', 'path': '/', 'priority': 'Medium', 'sameParty': False, 'secure': False, 'session': False, 'size': 37, 'sourcePort': 443, 'sourceScheme': 'Secure', 'value': 'GA1.2.1693305773.1646229188'}\n",
      "{'domain': '.nytimes.com', 'expires': 1646229247, 'httpOnly': False, 'name': '_gat_UA-58630905-2', 'path': '/', 'priority': 'Medium', 'sameParty': False, 'secure': False, 'session': False, 'size': 19, 'sourcePort': 443, 'sourceScheme': 'Secure', 'value': '1'}\n",
      "{'domain': 'www.nytimes.com', 'expires': 1680357188, 'httpOnly': False, 'name': '_cb_ls', 'path': '/', 'priority': 'Medium', 'sameParty': False, 'secure': False, 'session': False, 'size': 7, 'sourcePort': 443, 'sourceScheme': 'Secure', 'value': '1'}\n",
      "{'domain': 'www.nytimes.com', 'expires': 1680357188, 'httpOnly': False, 'name': '_cb', 'path': '/', 'priority': 'Medium', 'sameParty': False, 'secure': False, 'session': False, 'size': 20, 'sourcePort': 443, 'sourceScheme': 'Secure', 'value': 'CYakrb9dTwoCAKNNm'}\n",
      "{'domain': 'www.nytimes.com', 'expires': 1680357188, 'httpOnly': False, 'name': '_chartbeat2', 'path': '/', 'priority': 'Medium', 'sameParty': False, 'secure': False, 'session': False, 'size': 73, 'sourcePort': 443, 'sourceScheme': 'Secure', 'value': '.1646229188061.1646229188061.1.BMVX-sC4g3KhCdXQwO2djJSBtN7Ng.1'}\n",
      "{'domain': 'www.nytimes.com', 'expires': 1646230988, 'httpOnly': False, 'name': '_cb_svref', 'path': '/', 'priority': 'Medium', 'sameParty': False, 'secure': False, 'session': False, 'size': 13, 'sourcePort': 443, 'sourceScheme': 'Secure', 'value': 'null'}\n"
     ]
    },
    {
     "data": {
      "text/plain": "{'.a.nytimes.com',\n '.doubleclick.net',\n '.et.nytimes.com',\n '.google.com',\n '.nytimes.com',\n 'www.nytimes.com'}"
     },
     "execution_count": 62,
     "metadata": {},
     "output_type": "execute_result"
    }
   ],
   "source": [
    "s = set()\n",
    "for c in list(cookies.values())[0]:\n",
    "    print(c)\n",
    "    s.add(c['domain'])\n",
    "\n",
    "# Want: domain, expires, different domain from what source domain.\n",
    "# The Google cookie seems to disappear when running headless.\n",
    "s"
   ],
   "metadata": {
    "collapsed": false,
    "pycharm": {
     "name": "#%%\n"
    }
   }
  },
  {
   "cell_type": "code",
   "execution_count": 34,
   "outputs": [
    {
     "data": {
      "text/plain": "1"
     },
     "execution_count": 34,
     "metadata": {},
     "output_type": "execute_result"
    }
   ],
   "source": [
    "count = 0\n",
    "for c in list(cookies.values())[0]:\n",
    "    if 'google' in c['domain']:\n",
    "        count += 1\n",
    "\n",
    "count"
   ],
   "metadata": {
    "collapsed": false,
    "pycharm": {
     "name": "#%%\n"
    }
   }
  },
  {
   "cell_type": "code",
   "execution_count": null,
   "outputs": [],
   "source": [],
   "metadata": {
    "collapsed": false,
    "pycharm": {
     "name": "#%%\n"
    }
   }
  }
 ],
 "metadata": {
  "kernelspec": {
   "display_name": "Python 3",
   "language": "python",
   "name": "python3"
  },
  "language_info": {
   "codemirror_mode": {
    "name": "ipython",
    "version": 2
   },
   "file_extension": ".py",
   "mimetype": "text/x-python",
   "name": "python",
   "nbconvert_exporter": "python",
   "pygments_lexer": "ipython2",
   "version": "2.7.6"
  }
 },
 "nbformat": 4,
 "nbformat_minor": 0
}