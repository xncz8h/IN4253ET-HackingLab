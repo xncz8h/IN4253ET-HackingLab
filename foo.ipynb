{
 "cells": [
  {
   "cell_type": "code",
   "execution_count": 40,
   "metadata": {
    "collapsed": true
   },
   "outputs": [],
   "source": [
    "import numpy as np\n",
    "import json\n",
    "from selenium import webdriver\n",
    "from selenium.webdriver.chrome.options import Options\n",
    "from selenium.common.exceptions import WebDriverException\n",
    "from cookie import Cookie"
   ]
  },
  {
   "cell_type": "code",
   "execution_count": 2,
   "outputs": [],
   "source": [
    "chrome_options = Options()\n",
    "# The Google cookie seems to disappear when running headless.\n",
    "chrome_options.add_argument(\"--headless\")\n",
    "gl_SPOOFED_USER_AGENT = (\"Mozilla/5.0 (X11; Linux x86_64) \"\n",
    "                         \"AppleWebKit/537.36 \"\n",
    "                         \"(KHTML, like Gecko) Chrome/70.0.3538.77 \"\n",
    "                         \"Safari/537.36\")\n",
    "chrome_options.add_argument(\"--user-agent=%s\" %\n",
    "                            gl_SPOOFED_USER_AGENT)\n",
    "chrome_options.add_argument(\"--disable-extensions\")\n",
    "\n",
    "chrome_options.add_argument(\"ignore-certificate-errors\")\n",
    "chrome_options.add_argument(\"incognito\")\n",
    "chrome_options.add_argument(\"disable-gpu\")\n",
    "chrome_options.add_argument(\"disable-xss-auditor\")\n",
    "# chrome_options.add_argument(\"disable-background-networking\")\n",
    "chrome_options.add_argument(\"mute-audio\")\n",
    "# notifications\n",
    "chrome_options.add_argument(\"disable-notifications\")\n",
    "chrome_options.add_argument(\"allow-running-insecure-content\")"
   ],
   "metadata": {
    "collapsed": false,
    "pycharm": {
     "name": "#%%\n"
    }
   }
  },
  {
   "cell_type": "code",
   "execution_count": 31,
   "outputs": [],
   "source": [
    "def get_parse_cookies(url):\n",
    "    driver.get(url)\n",
    "    # Empty dict for the input arguments.\n",
    "    cookies = driver.execute_cdp_cmd('Network.getAllCookies', dict())['cookies']\n",
    "    wanted_data = []\n",
    "    for c in cookies:\n",
    "        cookie_dict = {k: c[k] for k in fields}\n",
    "        cookie_dict['third_party'] = website_name not in cookie_dict['domain']\n",
    "        cookie_dict['trackers'] = []\n",
    "        wanted_data.append(cookie_dict)\n",
    "\n",
    "    # print(*wanted_data, sep='\\n')\n",
    "    print(url)\n",
    "    return wanted_data"
   ],
   "metadata": {
    "collapsed": false,
    "pycharm": {
     "name": "#%%\n"
    }
   }
  },
  {
   "cell_type": "code",
   "execution_count": 39,
   "outputs": [
    {
     "name": "stdout",
     "output_type": "stream",
     "text": [
      "https://business.gov.nl\n",
      "https://duo.nl\n",
      "https://defensie.nl\n",
      "https://rvo.nl\n",
      "https://europa.eu\n",
      "https://ind.nl\n",
      "https://investinholland.com\n",
      "https://data.overheid.nl\n",
      "https://mijn.overheid.nl\n",
      "https://ondernemersplein.kvk.nl\n",
      "https://puc.overheid.nl\n",
      "https://acm.nl\n",
      "https://amsterdam.nl\n",
      "https://belastingdienst.nl\n",
      "https://cbs.nl\n",
      "https://denhaag.nl\n",
      "https://dnb.nl\n",
      "https://eerstekamer.nl\n",
      "https://fryslan.frl\n",
      "https://gelderland.nl\n",
      "https://government.nl\n",
      "https://houseofrepresentatives.nl\n",
      "https://knaw.nl\n",
      "https://kvk.nl\n",
      "https://limburg.nl\n",
      "https://museumserver.nl\n",
      "https://nbtc.nl\n",
      "https://noord-holland.nl\n",
      "https://nuffic.nl\n",
      "https://nwo.nl\n",
      "https://overheid.nl\n",
      "https://provinciegroningen.nl\n",
      "https://provincie-utrecht.nl\n",
      "https://rdw.nl\n",
      "https://rivm.nl\n",
      "https://rotterdam.nl\n",
      "https://royal-house.nl\n",
      "https://ser.nl\n",
      "https://svb.nl\n",
      "https://utrecht.nl\n",
      "https://www.uwv.nl\n",
      "https://visitdrenthe.com\n",
      "https://visitflevoland.nl\n",
      "https://werkenbijdeoverheid.nl\n",
      "https://www.werk.nl\n",
      "https://zeeland.nl\n",
      "https://zn.nl\n",
      "https://zuid-holland.eu\n",
      "https://octrooigemachtigde.nl\n",
      "https://overijssel.nl\n"
     ]
    },
    {
     "ename": "NameError",
     "evalue": "name 'json' is not defined",
     "output_type": "error",
     "traceback": [
      "\u001B[1;31m---------------------------------------------------------------------------\u001B[0m",
      "\u001B[1;31mNameError\u001B[0m                                 Traceback (most recent call last)",
      "\u001B[1;32m~\\AppData\\Local\\Temp/ipykernel_4832/3723531254.py\u001B[0m in \u001B[0;36m<module>\u001B[1;34m\u001B[0m\n\u001B[0;32m     25\u001B[0m \u001B[1;31m# json_object = json.dumps(all_cookies, indent=4)\u001B[0m\u001B[1;33m\u001B[0m\u001B[1;33m\u001B[0m\u001B[0m\n\u001B[0;32m     26\u001B[0m \u001B[1;32mwith\u001B[0m \u001B[0mopen\u001B[0m\u001B[1;33m(\u001B[0m\u001B[1;34m'out/overheid.json'\u001B[0m\u001B[1;33m,\u001B[0m \u001B[1;34m'w'\u001B[0m\u001B[1;33m)\u001B[0m \u001B[1;32mas\u001B[0m \u001B[0mf\u001B[0m\u001B[1;33m:\u001B[0m\u001B[1;33m\u001B[0m\u001B[1;33m\u001B[0m\u001B[0m\n\u001B[1;32m---> 27\u001B[1;33m     \u001B[0mjson\u001B[0m\u001B[1;33m.\u001B[0m\u001B[0mdump\u001B[0m\u001B[1;33m(\u001B[0m\u001B[0mall_cookies\u001B[0m\u001B[1;33m,\u001B[0m \u001B[0mf\u001B[0m\u001B[1;33m,\u001B[0m \u001B[0mindent\u001B[0m\u001B[1;33m=\u001B[0m\u001B[1;36m4\u001B[0m\u001B[1;33m)\u001B[0m\u001B[1;33m\u001B[0m\u001B[1;33m\u001B[0m\u001B[0m\n\u001B[0m",
      "\u001B[1;31mNameError\u001B[0m: name 'json' is not defined"
     ]
    }
   ],
   "source": [
    "# Multi-thread this cell.\n",
    "websites = np.loadtxt('websites/overheid.txt', delimiter='\\n', dtype='str')\n",
    "all_cookies = dict()\n",
    "fields = ['name', 'domain', 'expires']\n",
    "# websites = ['rvo.nl']\n",
    "\n",
    "# TODO: check for https://www. and https:// both\n",
    "for w in websites:\n",
    "    # Create new driver because it will otherwise return all the cookies.\n",
    "    driver = webdriver.Chrome(options = chrome_options)\n",
    "    website_name = w.rsplit('.', 1)[0].split('.', 1)[-1]\n",
    "    try:\n",
    "        target_url = f'https://{w}'\n",
    "        all_cookies[w] = get_parse_cookies(target_url)\n",
    "\n",
    "# Try again but with www.\n",
    "    except WebDriverException:\n",
    "        try:\n",
    "            target_url = f'https://www.{w}'\n",
    "            all_cookies[w] = get_parse_cookies(target_url)\n",
    "\n",
    "        except WebDriverException:\n",
    "            print('Page Down')\n",
    "\n"
   ],
   "metadata": {
    "collapsed": false,
    "pycharm": {
     "name": "#%%\n"
    }
   }
  },
  {
   "cell_type": "code",
   "execution_count": 52,
   "outputs": [],
   "source": [
    "# json_object = json.dumps(all_cookies, indent=4)\n",
    "with open('overheid.json', 'w') as f:\n",
    "    json.dump(all_cookies, f, indent=2)"
   ],
   "metadata": {
    "collapsed": false,
    "pycharm": {
     "name": "#%%\n"
    }
   }
  }
 ],
 "metadata": {
  "kernelspec": {
   "display_name": "Python 3",
   "language": "python",
   "name": "python3"
  },
  "language_info": {
   "codemirror_mode": {
    "name": "ipython",
    "version": 2
   },
   "file_extension": ".py",
   "mimetype": "text/x-python",
   "name": "python",
   "nbconvert_exporter": "python",
   "pygments_lexer": "ipython2",
   "version": "2.7.6"
  }
 },
 "nbformat": 4,
 "nbformat_minor": 0
}